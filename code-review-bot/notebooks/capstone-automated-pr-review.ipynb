{
 "cells": [
  {
   "cell_type": "code",
   "execution_count": 3,
   "id": "0b0213b7-6987-4be3-bc73-e4c99a64eeca",
   "metadata": {},
   "outputs": [],
   "source": [
    "%%capture --no-stderr\n",
    "%pip install --upgrade --quiet  langchain langchain-community langchainhub langchain-chroma bs4\n",
    "%pip install -qU langchain-openai"
   ]
  },
  {
   "cell_type": "code",
   "execution_count": 5,
   "id": "e263e579-1d15-4f3e-bc32-ffae39af5655",
   "metadata": {},
   "outputs": [
    {
     "name": "stdin",
     "output_type": "stream",
     "text": [
      " ········\n"
     ]
    }
   ],
   "source": [
    "import getpass\n",
    "import os\n",
    "\n",
    "if not os.environ.get(\"OPENAI_API_KEY\"):\n",
    "    os.environ[\"OPENAI_API_KEY\"] = getpass.getpass()"
   ]
  },
  {
   "cell_type": "code",
   "execution_count": 21,
   "id": "dbbe9081-0217-44a4-af71-221a1c8c34ef",
   "metadata": {},
   "outputs": [],
   "source": [
    "import json\n",
    "from langchain_openai import ChatOpenAI\n",
    "from langchain_core.prompts import ChatPromptTemplate\n",
    "from openai import OpenAI"
   ]
  },
  {
   "cell_type": "code",
   "execution_count": 23,
   "id": "852b32a7-a586-467e-90a4-3176c7492ec4",
   "metadata": {},
   "outputs": [],
   "source": [
    "# Create an OpenAI client\n",
    "api_key = os.environ.get(\"OPENAI_API_KEY\")\n",
    "client = OpenAI(api_key=api_key)"
   ]
  },
  {
   "cell_type": "code",
   "execution_count": 27,
   "id": "2e878d9a-8535-47be-8753-d060db9a07b3",
   "metadata": {},
   "outputs": [],
   "source": [
    "# Generating responsefrom gpt-4-turbo\n",
    "openai_response40 = client.chat.completions.create(\n",
    "  model = 'gpt-4-turbo',\n",
    "  messages = [\n",
    "    {\"role\": \"user\", \"content\": \"Please review the following Python function for any issues or improvements.\"},\n",
    "    {\"role\": \"user\", \"content\": \"def add(a, b): return a + b\"}\n",
    "  ]\n",
    ")"
   ]
  },
  {
   "cell_type": "code",
   "execution_count": 35,
   "id": "c8290e55-3cb3-43d1-9848-a6af63021eab",
   "metadata": {},
   "outputs": [
    {
     "name": "stdout",
     "output_type": "stream",
     "text": [
      "The function you've posted is a very basic Python function designed to add two numbers together and return their sum. At a first glance, it's simple and does the job. However, let's consider some aspects for improvement and potential issues:\n",
      "\n",
      "1. **Function Documentation:**\n",
      "   - It's good practice to include a docstring in your functions to describe what the function does, its parameters, and what it returns. This helps in maintaining code and making it easier for others to understand.\n",
      "\n",
      "2. **Parameter Type Checks:**\n",
      "   - The function does not check the types of `a` and `b`. This might not usually be necessary in simple scripts but can be useful in larger projects or libraries to avoid misuse leading to runtime errors.\n",
      "\n",
      "3. **Function Name:**\n",
      "   - The function name `add` is descriptive for adding two values, but if you are planning to extend functionality or want more clarity, you might consider specifying what it adds, like `add_numbers` or `add_values`.\n",
      "\n",
      "4. **Handling Different Types:**\n",
      "   - Python allows dynamic typing, but adding different data types (like a string and a number) would result in an error. If intended to be used more generally, handling or explicitly restricting types might be necessary.\n",
      "\n",
      "5. **Edge Cases:**\n",
      "   - Consider how the function behaves with non-numeric types since Python will not throw an error when adding strings, lists, etc., unless types are incompatible (e.g., a string and a number).\n",
      "\n",
      "Here is a slightly improved version of the function, including some of the above suggestions:\n",
      "\n",
      "```python\n",
      "def add_numbers(a, b):\n",
      "    \"\"\"\n",
      "    Add two numbers and return the sum.\n",
      "\n",
      "    Parameters:\n",
      "    a (int/float): The first number.\n",
      "    b (int/float): The second number.\n",
      "\n",
      "    Returns:\n",
      "    int/float: The sum of the two numbers.\n",
      "\n",
      "    Raises:\n",
      "    TypeError: If either of a or b is not a number.\n",
      "    \"\"\"\n",
      "    if not (isinstance(a, (int, float)) and isinstance(b, (int, float))):\n",
      "        raise TypeError(\"Both parameters must be integers or floats.\")\n",
      "    return a + b\n",
      "```\n",
      "\n",
      "This version includes:\n",
      "- A docstring explaining the function.\n",
      "- Type checks to ensure the inputs are numeric.\n",
      "- A more specific function name.\n",
      "\n",
      "Consider the context and requirements of your application to decide how detailed your function needs to be. In many simple cases, your original function might be perfectly sufficient.\n"
     ]
    }
   ],
   "source": [
    "# Print the response\n",
    "print(openai_response40.choices[0].message.content)"
   ]
  },
  {
   "cell_type": "code",
   "execution_count": null,
   "id": "8de3a525-f6c8-47d5-ae48-4738fbc28ae2",
   "metadata": {},
   "outputs": [],
   "source": []
  }
 ],
 "metadata": {
  "kernelspec": {
   "display_name": "Python 3 (ipykernel)",
   "language": "python",
   "name": "python3"
  },
  "language_info": {
   "codemirror_mode": {
    "name": "ipython",
    "version": 3
   },
   "file_extension": ".py",
   "mimetype": "text/x-python",
   "name": "python",
   "nbconvert_exporter": "python",
   "pygments_lexer": "ipython3",
   "version": "3.12.4"
  }
 },
 "nbformat": 4,
 "nbformat_minor": 5
}
