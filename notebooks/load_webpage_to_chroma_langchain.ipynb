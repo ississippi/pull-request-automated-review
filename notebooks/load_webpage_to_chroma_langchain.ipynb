{
 "cells": [
  {
   "cell_type": "markdown",
   "id": "813333f4",
   "metadata": {},
   "source": [
    "# Load Webpage Data into Chroma Vector Store using LangChain\n",
    "This notebook demonstrates how to use `WebBaseLoader` from LangChain to load data from a webpage and store it in Chroma."
   ]
  },
  {
   "cell_type": "code",
   "execution_count": 34,
   "id": "b5889a56",
   "metadata": {},
   "outputs": [],
   "source": [
    "!pip install langchain chromadb sentence-transformers --quiet\n",
    "!pip install langchain-huggingface --quiet"
   ]
  },
  {
   "cell_type": "code",
   "execution_count": 50,
   "id": "a34c60e0-9c3b-4828-96b4-4d65c1aa615b",
   "metadata": {},
   "outputs": [
    {
     "name": "stdout",
     "output_type": "stream",
     "text": [
      "Name: chromadb\n",
      "Version: 0.6.3\n",
      "Summary: Chroma.\n",
      "Home-page: \n",
      "Author: \n",
      "Author-email: Jeff Huber <jeff@trychroma.com>, Anton Troynikov <anton@trychroma.com>\n",
      "License: \n",
      "Location: C:\\ProgramData\\anaconda3\\Lib\\site-packages\n",
      "Requires: bcrypt, build, chroma-hnswlib, fastapi, grpcio, httpx, importlib-resources, kubernetes, mmh3, numpy, onnxruntime, opentelemetry-api, opentelemetry-exporter-otlp-proto-grpc, opentelemetry-instrumentation-fastapi, opentelemetry-sdk, orjson, overrides, posthog, pydantic, pypika, PyYAML, rich, tenacity, tokenizers, tqdm, typer, typing_extensions, uvicorn\n",
      "Required-by: langchain-chroma\n",
      "Name: onnxruntime\n",
      "Version: 1.21.0\n",
      "Summary: ONNX Runtime is a runtime accelerator for Machine Learning models\n",
      "Home-page: https://onnxruntime.ai\n",
      "Author: Microsoft Corporation\n",
      "Author-email: onnxruntime@microsoft.com\n",
      "License: MIT License\n",
      "Location: C:\\ProgramData\\anaconda3\\Lib\\site-packages\n",
      "Requires: coloredlogs, flatbuffers, numpy, packaging, protobuf, sympy\n",
      "Required-by: chromadb\n"
     ]
    }
   ],
   "source": [
    "!pip show chromadb\n",
    "!pip show onnxruntime"
   ]
  },
  {
   "cell_type": "code",
   "execution_count": null,
   "id": "6c2bb8eb-2c37-4f90-9817-8ec603468935",
   "metadata": {},
   "outputs": [],
   "source": [
    "!pip uninstall onnxruntime onnx onnxruntime-tools"
   ]
  },
  {
   "cell_type": "code",
   "execution_count": 36,
   "id": "b270eb20",
   "metadata": {},
   "outputs": [
    {
     "name": "stdout",
     "output_type": "stream",
     "text": [
      "Loaded 1 documents\n"
     ]
    }
   ],
   "source": [
    "# Step 1: Load webpage content using LangChain\n",
    "import os\n",
    "from langchain.document_loaders import WebBaseLoader\n",
    "os.environ['USER_AGENT'] = 'automated-code-review/1.0'\n",
    "PYTHON_STYLES_WEB_SOURCE = \"https://google.github.io/styleguide/pyguide.html\"\n",
    "loader = WebBaseLoader(PYTHON_STYLES_WEB_SOURCE)\n",
    "documents = loader.load()\n",
    "print(f\"Loaded {len(documents)} documents\")"
   ]
  },
  {
   "cell_type": "code",
   "execution_count": 38,
   "id": "f2e8cedd-161f-4f4e-a08b-fc80048f7bb0",
   "metadata": {},
   "outputs": [],
   "source": [
    "import json\n",
    "\n",
    "data = [{\"content\": doc.page_content, \"metadata\": doc.metadata} for doc in documents]\n",
    "\n",
    "with open(\"web_documents.json\", \"w\", encoding=\"utf-8\") as f:\n",
    "    json.dump(data, f, indent=2)\n"
   ]
  },
  {
   "cell_type": "code",
   "execution_count": 40,
   "id": "4ef2f06f",
   "metadata": {},
   "outputs": [
    {
     "name": "stdout",
     "output_type": "stream",
     "text": [
      "Split into 122 chunks\n"
     ]
    }
   ],
   "source": [
    "# Step 2: Split documents into chunks\n",
    "from langchain.text_splitter import RecursiveCharacterTextSplitter\n",
    "TEXT_SPLITTER_CHUNK_SIZE = 1000\n",
    "TEXT_SPLITTER_CHUNK_OVERLAP = 200\n",
    "\n",
    "splitter = RecursiveCharacterTextSplitter(chunk_size=TEXT_SPLITTER_CHUNK_SIZE, chunk_overlap=TEXT_SPLITTER_CHUNK_OVERLAP)\n",
    "docs = splitter.split_documents(documents)\n",
    "print(f\"Split into {len(docs)} chunks\")"
   ]
  },
  {
   "cell_type": "code",
   "execution_count": 46,
   "id": "728917d7",
   "metadata": {},
   "outputs": [
    {
     "ename": "ValueError",
     "evalue": "The onnxruntime python package is not installed. Please install it with `pip install onnxruntime`",
     "output_type": "error",
     "traceback": [
      "\u001b[31m---------------------------------------------------------------------------\u001b[39m",
      "\u001b[31mImportError\u001b[39m                               Traceback (most recent call last)",
      "\u001b[36mFile \u001b[39m\u001b[32mC:\\ProgramData\\anaconda3\\Lib\\site-packages\\chromadb\\utils\\embedding_functions\\onnx_mini_lm_l6_v2.py:63\u001b[39m, in \u001b[36mONNXMiniLM_L6_V2.__init__\u001b[39m\u001b[34m(self, preferred_providers)\u001b[39m\n\u001b[32m     61\u001b[39m \u001b[38;5;28;01mtry\u001b[39;00m:\n\u001b[32m     62\u001b[39m     \u001b[38;5;66;03m# Equivalent to import onnxruntime\u001b[39;00m\n\u001b[32m---> \u001b[39m\u001b[32m63\u001b[39m     \u001b[38;5;28mself\u001b[39m.ort = \u001b[43mimportlib\u001b[49m\u001b[43m.\u001b[49m\u001b[43mimport_module\u001b[49m\u001b[43m(\u001b[49m\u001b[33;43m\"\u001b[39;49m\u001b[33;43monnxruntime\u001b[39;49m\u001b[33;43m\"\u001b[39;49m\u001b[43m)\u001b[49m\n\u001b[32m     64\u001b[39m \u001b[38;5;28;01mexcept\u001b[39;00m \u001b[38;5;167;01mImportError\u001b[39;00m:\n",
      "\u001b[36mFile \u001b[39m\u001b[32mC:\\ProgramData\\anaconda3\\Lib\\importlib\\__init__.py:90\u001b[39m, in \u001b[36mimport_module\u001b[39m\u001b[34m(name, package)\u001b[39m\n\u001b[32m     89\u001b[39m         level += \u001b[32m1\u001b[39m\n\u001b[32m---> \u001b[39m\u001b[32m90\u001b[39m \u001b[38;5;28;01mreturn\u001b[39;00m \u001b[43m_bootstrap\u001b[49m\u001b[43m.\u001b[49m\u001b[43m_gcd_import\u001b[49m\u001b[43m(\u001b[49m\u001b[43mname\u001b[49m\u001b[43m[\u001b[49m\u001b[43mlevel\u001b[49m\u001b[43m:\u001b[49m\u001b[43m]\u001b[49m\u001b[43m,\u001b[49m\u001b[43m \u001b[49m\u001b[43mpackage\u001b[49m\u001b[43m,\u001b[49m\u001b[43m \u001b[49m\u001b[43mlevel\u001b[49m\u001b[43m)\u001b[49m\n",
      "\u001b[36mFile \u001b[39m\u001b[32m<frozen importlib._bootstrap>:1387\u001b[39m, in \u001b[36m_gcd_import\u001b[39m\u001b[34m(name, package, level)\u001b[39m\n",
      "\u001b[36mFile \u001b[39m\u001b[32m<frozen importlib._bootstrap>:1360\u001b[39m, in \u001b[36m_find_and_load\u001b[39m\u001b[34m(name, import_)\u001b[39m\n",
      "\u001b[36mFile \u001b[39m\u001b[32m<frozen importlib._bootstrap>:1331\u001b[39m, in \u001b[36m_find_and_load_unlocked\u001b[39m\u001b[34m(name, import_)\u001b[39m\n",
      "\u001b[36mFile \u001b[39m\u001b[32m<frozen importlib._bootstrap>:935\u001b[39m, in \u001b[36m_load_unlocked\u001b[39m\u001b[34m(spec)\u001b[39m\n",
      "\u001b[36mFile \u001b[39m\u001b[32m<frozen importlib._bootstrap_external>:995\u001b[39m, in \u001b[36mexec_module\u001b[39m\u001b[34m(self, module)\u001b[39m\n",
      "\u001b[36mFile \u001b[39m\u001b[32m<frozen importlib._bootstrap>:488\u001b[39m, in \u001b[36m_call_with_frames_removed\u001b[39m\u001b[34m(f, *args, **kwds)\u001b[39m\n",
      "\u001b[36mFile \u001b[39m\u001b[32mC:\\ProgramData\\anaconda3\\Lib\\site-packages\\onnxruntime\\__init__.py:61\u001b[39m\n\u001b[32m     60\u001b[39m \u001b[38;5;28;01mif\u001b[39;00m import_capi_exception:\n\u001b[32m---> \u001b[39m\u001b[32m61\u001b[39m     \u001b[38;5;28;01mraise\u001b[39;00m import_capi_exception\n\u001b[32m     63\u001b[39m \u001b[38;5;28;01mfrom\u001b[39;00m \u001b[34;01monnxruntime\u001b[39;00m\u001b[34;01m.\u001b[39;00m\u001b[34;01mcapi\u001b[39;00m\u001b[34;01m.\u001b[39;00m\u001b[34;01monnxruntime_inference_collection\u001b[39;00m \u001b[38;5;28;01mimport\u001b[39;00m (\n\u001b[32m     64\u001b[39m     AdapterFormat,  \u001b[38;5;66;03m# noqa: F401\u001b[39;00m\n\u001b[32m     65\u001b[39m     InferenceSession,  \u001b[38;5;66;03m# noqa: F401\u001b[39;00m\n\u001b[32m   (...)\u001b[39m\u001b[32m     69\u001b[39m     SparseTensor,  \u001b[38;5;66;03m# noqa: F401\u001b[39;00m\n\u001b[32m     70\u001b[39m )\n",
      "\u001b[36mFile \u001b[39m\u001b[32mC:\\ProgramData\\anaconda3\\Lib\\site-packages\\onnxruntime\\__init__.py:24\u001b[39m\n\u001b[32m     23\u001b[39m \u001b[38;5;28;01mtry\u001b[39;00m:\n\u001b[32m---> \u001b[39m\u001b[32m24\u001b[39m     \u001b[38;5;28;01mfrom\u001b[39;00m \u001b[34;01monnxruntime\u001b[39;00m\u001b[34;01m.\u001b[39;00m\u001b[34;01mcapi\u001b[39;00m\u001b[34;01m.\u001b[39;00m\u001b[34;01m_pybind_state\u001b[39;00m \u001b[38;5;28;01mimport\u001b[39;00m (\n\u001b[32m     25\u001b[39m         ExecutionMode,  \u001b[38;5;66;03m# noqa: F401\u001b[39;00m\n\u001b[32m     26\u001b[39m         ExecutionOrder,  \u001b[38;5;66;03m# noqa: F401\u001b[39;00m\n\u001b[32m     27\u001b[39m         GraphOptimizationLevel,  \u001b[38;5;66;03m# noqa: F401\u001b[39;00m\n\u001b[32m     28\u001b[39m         LoraAdapter,  \u001b[38;5;66;03m# noqa: F401\u001b[39;00m\n\u001b[32m     29\u001b[39m         ModelMetadata,  \u001b[38;5;66;03m# noqa: F401\u001b[39;00m\n\u001b[32m     30\u001b[39m         NodeArg,  \u001b[38;5;66;03m# noqa: F401\u001b[39;00m\n\u001b[32m     31\u001b[39m         OrtAllocatorType,  \u001b[38;5;66;03m# noqa: F401\u001b[39;00m\n\u001b[32m     32\u001b[39m         OrtArenaCfg,  \u001b[38;5;66;03m# noqa: F401\u001b[39;00m\n\u001b[32m     33\u001b[39m         OrtMemoryInfo,  \u001b[38;5;66;03m# noqa: F401\u001b[39;00m\n\u001b[32m     34\u001b[39m         OrtMemType,  \u001b[38;5;66;03m# noqa: F401\u001b[39;00m\n\u001b[32m     35\u001b[39m         OrtSparseFormat,  \u001b[38;5;66;03m# noqa: F401\u001b[39;00m\n\u001b[32m     36\u001b[39m         RunOptions,  \u001b[38;5;66;03m# noqa: F401\u001b[39;00m\n\u001b[32m     37\u001b[39m         SessionIOBinding,  \u001b[38;5;66;03m# noqa: F401\u001b[39;00m\n\u001b[32m     38\u001b[39m         SessionOptions,  \u001b[38;5;66;03m# noqa: F401\u001b[39;00m\n\u001b[32m     39\u001b[39m         create_and_register_allocator,  \u001b[38;5;66;03m# noqa: F401\u001b[39;00m\n\u001b[32m     40\u001b[39m         create_and_register_allocator_v2,  \u001b[38;5;66;03m# noqa: F401\u001b[39;00m\n\u001b[32m     41\u001b[39m         disable_telemetry_events,  \u001b[38;5;66;03m# noqa: F401\u001b[39;00m\n\u001b[32m     42\u001b[39m         enable_telemetry_events,  \u001b[38;5;66;03m# noqa: F401\u001b[39;00m\n\u001b[32m     43\u001b[39m         get_all_providers,  \u001b[38;5;66;03m# noqa: F401\u001b[39;00m\n\u001b[32m     44\u001b[39m         get_available_providers,  \u001b[38;5;66;03m# noqa: F401\u001b[39;00m\n\u001b[32m     45\u001b[39m         get_build_info,  \u001b[38;5;66;03m# noqa: F401\u001b[39;00m\n\u001b[32m     46\u001b[39m         get_device,  \u001b[38;5;66;03m# noqa: F401\u001b[39;00m\n\u001b[32m     47\u001b[39m         get_version_string,  \u001b[38;5;66;03m# noqa: F401\u001b[39;00m\n\u001b[32m     48\u001b[39m         has_collective_ops,  \u001b[38;5;66;03m# noqa: F401\u001b[39;00m\n\u001b[32m     49\u001b[39m         set_default_logger_severity,  \u001b[38;5;66;03m# noqa: F401\u001b[39;00m\n\u001b[32m     50\u001b[39m         set_default_logger_verbosity,  \u001b[38;5;66;03m# noqa: F401\u001b[39;00m\n\u001b[32m     51\u001b[39m         set_seed,  \u001b[38;5;66;03m# noqa: F401\u001b[39;00m\n\u001b[32m     52\u001b[39m     )\n\u001b[32m     54\u001b[39m     import_capi_exception = \u001b[38;5;28;01mNone\u001b[39;00m\n",
      "\u001b[36mFile \u001b[39m\u001b[32mC:\\ProgramData\\anaconda3\\Lib\\site-packages\\onnxruntime\\capi\\_pybind_state.py:32\u001b[39m\n\u001b[32m     25\u001b[39m             warnings.warn(\u001b[33m\"\u001b[39m\u001b[33mPlease install the 2019 Visual C++ runtime and then try again. \u001b[39m\u001b[33m\"\u001b[39m\n\u001b[32m     26\u001b[39m                           \u001b[33m\"\u001b[39m\u001b[33mIf you\u001b[39m\u001b[33m'\u001b[39m\u001b[33mve installed the runtime in a non-standard location \u001b[39m\u001b[33m\"\u001b[39m\n\u001b[32m     27\u001b[39m                           \u001b[33m\"\u001b[39m\u001b[33m(other than \u001b[39m\u001b[33m%\u001b[39m\u001b[33mSystemRoot\u001b[39m\u001b[33m%\u001b[39m\u001b[38;5;130;01m\\\\\u001b[39;00m\u001b[33mSystem32), \u001b[39m\u001b[33m\"\u001b[39m\n\u001b[32m     28\u001b[39m                           \u001b[33m\"\u001b[39m\u001b[33mmake sure it can be found by setting the correct path.\u001b[39m\u001b[33m\"\u001b[39m)\n\u001b[32m---> \u001b[39m\u001b[32m32\u001b[39m \u001b[38;5;28;01mfrom\u001b[39;00m \u001b[34;01m.\u001b[39;00m\u001b[34;01monnxruntime_pybind11_state\u001b[39;00m \u001b[38;5;28;01mimport\u001b[39;00m *  \u001b[38;5;66;03m# noqa\u001b[39;00m\n",
      "\u001b[31mImportError\u001b[39m: DLL load failed while importing onnxruntime_pybind11_state: A dynamic link library (DLL) initialization routine failed.",
      "\nDuring handling of the above exception, another exception occurred:\n",
      "\u001b[31mValueError\u001b[39m                                Traceback (most recent call last)",
      "\u001b[36mCell\u001b[39m\u001b[36m \u001b[39m\u001b[32mIn[46]\u001b[39m\u001b[32m, line 3\u001b[39m\n\u001b[32m      1\u001b[39m \u001b[38;5;28;01mfrom\u001b[39;00m \u001b[34;01mlangchain\u001b[39;00m\u001b[34;01m.\u001b[39;00m\u001b[34;01membeddings\u001b[39;00m \u001b[38;5;28;01mimport\u001b[39;00m HuggingFaceEmbeddings\n\u001b[32m      2\u001b[39m \u001b[38;5;28;01mfrom\u001b[39;00m \u001b[34;01mlangchain\u001b[39;00m\u001b[34;01m.\u001b[39;00m\u001b[34;01mvectorstores\u001b[39;00m\u001b[34;01m.\u001b[39;00m\u001b[34;01mchroma\u001b[39;00m \u001b[38;5;28;01mimport\u001b[39;00m Chroma\n\u001b[32m----> \u001b[39m\u001b[32m3\u001b[39m \u001b[38;5;28;01mfrom\u001b[39;00m \u001b[34;01mchromadb\u001b[39;00m \u001b[38;5;28;01mimport\u001b[39;00m Client\n\u001b[32m      4\u001b[39m \u001b[38;5;28;01mfrom\u001b[39;00m \u001b[34;01mchromadb\u001b[39;00m\u001b[34;01m.\u001b[39;00m\u001b[34;01mconfig\u001b[39;00m \u001b[38;5;28;01mimport\u001b[39;00m Settings\n\u001b[32m      6\u001b[39m \u001b[38;5;66;03m# 1. Set up the client manually\u001b[39;00m\n",
      "\u001b[36mFile \u001b[39m\u001b[32mC:\\ProgramData\\anaconda3\\Lib\\site-packages\\chromadb\\__init__.py:3\u001b[39m\n\u001b[32m      1\u001b[39m \u001b[38;5;28;01mfrom\u001b[39;00m \u001b[34;01mtyping\u001b[39;00m \u001b[38;5;28;01mimport\u001b[39;00m Dict, Optional\n\u001b[32m      2\u001b[39m \u001b[38;5;28;01mimport\u001b[39;00m \u001b[34;01mlogging\u001b[39;00m\n\u001b[32m----> \u001b[39m\u001b[32m3\u001b[39m \u001b[38;5;28;01mfrom\u001b[39;00m \u001b[34;01mchromadb\u001b[39;00m\u001b[34;01m.\u001b[39;00m\u001b[34;01mapi\u001b[39;00m\u001b[34;01m.\u001b[39;00m\u001b[34;01mclient\u001b[39;00m \u001b[38;5;28;01mimport\u001b[39;00m Client \u001b[38;5;28;01mas\u001b[39;00m ClientCreator\n\u001b[32m      4\u001b[39m \u001b[38;5;28;01mfrom\u001b[39;00m \u001b[34;01mchromadb\u001b[39;00m\u001b[34;01m.\u001b[39;00m\u001b[34;01mapi\u001b[39;00m\u001b[34;01m.\u001b[39;00m\u001b[34;01mclient\u001b[39;00m \u001b[38;5;28;01mimport\u001b[39;00m AdminClient \u001b[38;5;28;01mas\u001b[39;00m AdminClientCreator\n\u001b[32m      5\u001b[39m \u001b[38;5;28;01mfrom\u001b[39;00m \u001b[34;01mchromadb\u001b[39;00m\u001b[34;01m.\u001b[39;00m\u001b[34;01mapi\u001b[39;00m\u001b[34;01m.\u001b[39;00m\u001b[34;01masync_client\u001b[39;00m \u001b[38;5;28;01mimport\u001b[39;00m AsyncClient \u001b[38;5;28;01mas\u001b[39;00m AsyncClientCreator\n",
      "\u001b[36mFile \u001b[39m\u001b[32mC:\\ProgramData\\anaconda3\\Lib\\site-packages\\chromadb\\api\\__init__.py:34\u001b[39m\n\u001b[32m     32\u001b[39m \u001b[38;5;28;01mfrom\u001b[39;00m \u001b[34;01mchromadb\u001b[39;00m\u001b[34;01m.\u001b[39;00m\u001b[34;01mtypes\u001b[39;00m \u001b[38;5;28;01mimport\u001b[39;00m Database, Tenant, Collection \u001b[38;5;28;01mas\u001b[39;00m CollectionModel\n\u001b[32m     33\u001b[39m \u001b[38;5;28;01mimport\u001b[39;00m \u001b[34;01mchromadb\u001b[39;00m\u001b[34;01m.\u001b[39;00m\u001b[34;01mutils\u001b[39;00m\u001b[34;01m.\u001b[39;00m\u001b[34;01membedding_functions\u001b[39;00m \u001b[38;5;28;01mas\u001b[39;00m \u001b[34;01mef\u001b[39;00m\n\u001b[32m---> \u001b[39m\u001b[32m34\u001b[39m \u001b[38;5;28;01mfrom\u001b[39;00m \u001b[34;01mchromadb\u001b[39;00m\u001b[34;01m.\u001b[39;00m\u001b[34;01mapi\u001b[39;00m\u001b[34;01m.\u001b[39;00m\u001b[34;01mmodels\u001b[39;00m\u001b[34;01m.\u001b[39;00m\u001b[34;01mCollection\u001b[39;00m \u001b[38;5;28;01mimport\u001b[39;00m Collection, CollectionName\n\u001b[32m     36\u001b[39m \u001b[38;5;66;03m# Re-export the async version\u001b[39;00m\n\u001b[32m     37\u001b[39m \u001b[38;5;28;01mfrom\u001b[39;00m \u001b[34;01mchromadb\u001b[39;00m\u001b[34;01m.\u001b[39;00m\u001b[34;01mapi\u001b[39;00m\u001b[34;01m.\u001b[39;00m\u001b[34;01masync_api\u001b[39;00m \u001b[38;5;28;01mimport\u001b[39;00m (  \u001b[38;5;66;03m# noqa: F401\u001b[39;00m\n\u001b[32m     38\u001b[39m     AsyncBaseAPI \u001b[38;5;28;01mas\u001b[39;00m AsyncBaseAPI,\n\u001b[32m     39\u001b[39m     AsyncClientAPI \u001b[38;5;28;01mas\u001b[39;00m AsyncClientAPI,\n\u001b[32m     40\u001b[39m     AsyncAdminAPI \u001b[38;5;28;01mas\u001b[39;00m AsyncAdminAPI,\n\u001b[32m     41\u001b[39m     AsyncServerAPI \u001b[38;5;28;01mas\u001b[39;00m AsyncServerAPI,\n\u001b[32m     42\u001b[39m )\n",
      "\u001b[36mFile \u001b[39m\u001b[32mC:\\ProgramData\\anaconda3\\Lib\\site-packages\\chromadb\\api\\models\\Collection.py:4\u001b[39m\n\u001b[32m      1\u001b[39m \u001b[38;5;28;01mimport\u001b[39;00m \u001b[34;01minspect\u001b[39;00m\n\u001b[32m      2\u001b[39m \u001b[38;5;28;01mfrom\u001b[39;00m \u001b[34;01mtyping\u001b[39;00m \u001b[38;5;28;01mimport\u001b[39;00m TYPE_CHECKING, Optional, Union\n\u001b[32m----> \u001b[39m\u001b[32m4\u001b[39m \u001b[38;5;28;01mfrom\u001b[39;00m \u001b[34;01mchromadb\u001b[39;00m\u001b[34;01m.\u001b[39;00m\u001b[34;01mapi\u001b[39;00m\u001b[34;01m.\u001b[39;00m\u001b[34;01mmodels\u001b[39;00m\u001b[34;01m.\u001b[39;00m\u001b[34;01mCollectionCommon\u001b[39;00m \u001b[38;5;28;01mimport\u001b[39;00m CollectionCommon\n\u001b[32m      5\u001b[39m \u001b[38;5;28;01mfrom\u001b[39;00m \u001b[34;01mchromadb\u001b[39;00m\u001b[34;01m.\u001b[39;00m\u001b[34;01mapi\u001b[39;00m\u001b[34;01m.\u001b[39;00m\u001b[34;01mtypes\u001b[39;00m \u001b[38;5;28;01mimport\u001b[39;00m (\n\u001b[32m      6\u001b[39m     URI,\n\u001b[32m      7\u001b[39m     CollectionMetadata,\n\u001b[32m   (...)\u001b[39m\u001b[32m     22\u001b[39m     IncludeEnum,\n\u001b[32m     23\u001b[39m )\n\u001b[32m     25\u001b[39m \u001b[38;5;28;01mimport\u001b[39;00m \u001b[34;01mlogging\u001b[39;00m\n",
      "\u001b[36mFile \u001b[39m\u001b[32mC:\\ProgramData\\anaconda3\\Lib\\site-packages\\chromadb\\api\\models\\CollectionCommon.py:100\u001b[39m\n\u001b[32m     95\u001b[39m         \u001b[38;5;28;01mreturn\u001b[39;00m wrapper\n\u001b[32m     97\u001b[39m     \u001b[38;5;28;01mreturn\u001b[39;00m decorator\n\u001b[32m--> \u001b[39m\u001b[32m100\u001b[39m \u001b[38;5;28;43;01mclass\u001b[39;49;00m\u001b[43m \u001b[49m\u001b[34;43;01mCollectionCommon\u001b[39;49;00m\u001b[43m(\u001b[49m\u001b[43mGeneric\u001b[49m\u001b[43m[\u001b[49m\u001b[43mClientT\u001b[49m\u001b[43m]\u001b[49m\u001b[43m)\u001b[49m\u001b[43m:\u001b[49m\n\u001b[32m    101\u001b[39m \u001b[43m    \u001b[49m\u001b[43m_model\u001b[49m\u001b[43m:\u001b[49m\u001b[43m \u001b[49m\u001b[43mCollectionModel\u001b[49m\n\u001b[32m    102\u001b[39m \u001b[43m    \u001b[49m\u001b[43m_client\u001b[49m\u001b[43m:\u001b[49m\u001b[43m \u001b[49m\u001b[43mClientT\u001b[49m\n",
      "\u001b[36mFile \u001b[39m\u001b[32mC:\\ProgramData\\anaconda3\\Lib\\site-packages\\chromadb\\api\\models\\CollectionCommon.py:112\u001b[39m, in \u001b[36mCollectionCommon\u001b[39m\u001b[34m()\u001b[39m\n\u001b[32m    103\u001b[39m _embedding_function: Optional[EmbeddingFunction[Embeddable]]\n\u001b[32m    104\u001b[39m _data_loader: Optional[DataLoader[Loadable]]\n\u001b[32m    106\u001b[39m \u001b[38;5;28;01mdef\u001b[39;00m \u001b[34m__init__\u001b[39m(\n\u001b[32m    107\u001b[39m     \u001b[38;5;28mself\u001b[39m,\n\u001b[32m    108\u001b[39m     client: ClientT,\n\u001b[32m    109\u001b[39m     model: CollectionModel,\n\u001b[32m    110\u001b[39m     embedding_function: Optional[\n\u001b[32m    111\u001b[39m         EmbeddingFunction[Embeddable]\n\u001b[32m--> \u001b[39m\u001b[32m112\u001b[39m     ] = \u001b[43mef\u001b[49m\u001b[43m.\u001b[49m\u001b[43mDefaultEmbeddingFunction\u001b[49m\u001b[43m(\u001b[49m\u001b[43m)\u001b[49m,  \u001b[38;5;66;03m# type: ignore\u001b[39;00m\n\u001b[32m    113\u001b[39m     data_loader: Optional[DataLoader[Loadable]] = \u001b[38;5;28;01mNone\u001b[39;00m,\n\u001b[32m    114\u001b[39m ):\n\u001b[32m    115\u001b[39m \u001b[38;5;250m    \u001b[39m\u001b[33;03m\"\"\"Initializes a new instance of the Collection class.\"\"\"\u001b[39;00m\n\u001b[32m    117\u001b[39m     \u001b[38;5;28mself\u001b[39m._client = client\n",
      "\u001b[36mFile \u001b[39m\u001b[32mC:\\ProgramData\\anaconda3\\Lib\\site-packages\\chromadb\\utils\\embedding_functions\\__init__.py:57\u001b[39m, in \u001b[36mDefaultEmbeddingFunction\u001b[39m\u001b[34m()\u001b[39m\n\u001b[32m     52\u001b[39m     \u001b[38;5;28;01mreturn\u001b[39;00m \u001b[38;5;28;01mNone\u001b[39;00m\n\u001b[32m     53\u001b[39m \u001b[38;5;28;01melse\u001b[39;00m:\n\u001b[32m     54\u001b[39m     \u001b[38;5;28;01mreturn\u001b[39;00m cast(\n\u001b[32m     55\u001b[39m         EmbeddingFunction[Documents],\n\u001b[32m     56\u001b[39m         \u001b[38;5;66;03m# This is implicitly imported above\u001b[39;00m\n\u001b[32m---> \u001b[39m\u001b[32m57\u001b[39m         \u001b[43mONNXMiniLM_L6_V2\u001b[49m\u001b[43m(\u001b[49m\u001b[43m)\u001b[49m,  \u001b[38;5;66;03m# type: ignore[name-defined] # noqa: F821\u001b[39;00m\n\u001b[32m     58\u001b[39m     )\n",
      "\u001b[36mFile \u001b[39m\u001b[32mC:\\ProgramData\\anaconda3\\Lib\\site-packages\\chromadb\\utils\\embedding_functions\\onnx_mini_lm_l6_v2.py:65\u001b[39m, in \u001b[36mONNXMiniLM_L6_V2.__init__\u001b[39m\u001b[34m(self, preferred_providers)\u001b[39m\n\u001b[32m     63\u001b[39m     \u001b[38;5;28mself\u001b[39m.ort = importlib.import_module(\u001b[33m\"\u001b[39m\u001b[33monnxruntime\u001b[39m\u001b[33m\"\u001b[39m)\n\u001b[32m     64\u001b[39m \u001b[38;5;28;01mexcept\u001b[39;00m \u001b[38;5;167;01mImportError\u001b[39;00m:\n\u001b[32m---> \u001b[39m\u001b[32m65\u001b[39m     \u001b[38;5;28;01mraise\u001b[39;00m \u001b[38;5;167;01mValueError\u001b[39;00m(\n\u001b[32m     66\u001b[39m         \u001b[33m\"\u001b[39m\u001b[33mThe onnxruntime python package is not installed. Please install it with `pip install onnxruntime`\u001b[39m\u001b[33m\"\u001b[39m\n\u001b[32m     67\u001b[39m     )\n\u001b[32m     68\u001b[39m \u001b[38;5;28;01mtry\u001b[39;00m:\n\u001b[32m     69\u001b[39m     \u001b[38;5;66;03m# Equivalent to from tokenizers import Tokenizer\u001b[39;00m\n\u001b[32m     70\u001b[39m     \u001b[38;5;28mself\u001b[39m.Tokenizer = importlib.import_module(\u001b[33m\"\u001b[39m\u001b[33mtokenizers\u001b[39m\u001b[33m\"\u001b[39m).Tokenizer\n",
      "\u001b[31mValueError\u001b[39m: The onnxruntime python package is not installed. Please install it with `pip install onnxruntime`"
     ]
    }
   ],
   "source": [
    "from langchain.embeddings import HuggingFaceEmbeddings\n",
    "from langchain.vectorstores.chroma import Chroma\n",
    "from chromadb import Client\n",
    "from chromadb.config import Settings\n",
    "\n",
    "# 1. Set up the client manually\n",
    "persist_directory = \"./chroma_langchain_store\"\n",
    "client_settings = Settings(\n",
    "    persist_directory=persist_directory,\n",
    "    anonymized_telemetry=False\n",
    ")\n",
    "client = Client(client_settings)\n",
    "\n",
    "# 2. Load documents & create embedding\n",
    "embedding = HuggingFaceEmbeddings(model_name=\"all-MiniLM-L6-v2\")\n",
    "\n",
    "# 3. Add documents to Chroma manually\n",
    "vectordb = Chroma(\n",
    "    collection_name=\"web_docs\",\n",
    "    embedding_function=embedding,\n",
    "    client=client,\n",
    "    persist_directory=persist_directory\n",
    ")\n",
    "vectordb.add_documents(docs)\n",
    "vectordb.persist()\n",
    "\n",
    "print(\"Chroma vector store created without onnxruntime.\")\n"
   ]
  },
  {
   "cell_type": "code",
   "execution_count": null,
   "id": "87bca093",
   "metadata": {},
   "outputs": [],
   "source": [
    "# Step 4: Perform a similarity search\n",
    "query = \"What are Python naming conventions?\"\n",
    "results = vectordb.similarity_search(query, k=3)\n",
    "for i, res in enumerate(results):\n",
    "    print(f\"Result {i+1}:\")\n",
    "    print(res.page_content)\n",
    "    print(\"-\"*80)"
   ]
  },
  {
   "cell_type": "code",
   "execution_count": null,
   "id": "4567bcfc-9940-4e0d-a876-e77ee3bd41ad",
   "metadata": {},
   "outputs": [],
   "source": []
  }
 ],
 "metadata": {
  "kernelspec": {
   "display_name": "Python 3 (ipykernel)",
   "language": "python",
   "name": "python3"
  },
  "language_info": {
   "codemirror_mode": {
    "name": "ipython",
    "version": 3
   },
   "file_extension": ".py",
   "mimetype": "text/x-python",
   "name": "python",
   "nbconvert_exporter": "python",
   "pygments_lexer": "ipython3",
   "version": "3.12.4"
  }
 },
 "nbformat": 4,
 "nbformat_minor": 5
}
