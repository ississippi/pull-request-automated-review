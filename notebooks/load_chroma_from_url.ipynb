{
 "cells": [
  {
   "cell_type": "markdown",
   "id": "76a2cf99",
   "metadata": {},
   "source": [
    "# Load Chroma Vector Store from URL\n",
    "This notebook downloads, extracts, and loads a Chroma vector store from a given URL."
   ]
  },
  {
   "cell_type": "code",
   "execution_count": null,
   "id": "0ed1e2f9",
   "metadata": {},
   "outputs": [],
   "source": [
    "!pip install chromadb --quiet\n",
    "!pip install wget --quiet"
   ]
  },
  {
   "cell_type": "code",
   "execution_count": null,
   "id": "b908be0d",
   "metadata": {},
   "outputs": [],
   "source": [
    "# Step 1: Download the Chroma vector store archive\n",
    "import wget\n",
    "import os\n",
    "\n",
    "url = \"https://example.com/chroma_store.zip\"  # <- Replace with your actual URL\n",
    "output_file = \"chroma_store.zip\"\n",
    "\n",
    "if not os.path.exists(output_file):\n",
    "    print(f\"Downloading from {url}...\")\n",
    "    wget.download(url, output_file)\n",
    "else:\n",
    "    print(\"Archive already downloaded.\")"
   ]
  },
  {
   "cell_type": "code",
   "execution_count": null,
   "id": "a3559643",
   "metadata": {},
   "outputs": [],
   "source": [
    "# Step 2: Extract the zip archive\n",
    "import zipfile\n",
    "\n",
    "extract_path = \"./chroma_store\"\n",
    "if not os.path.exists(extract_path):\n",
    "    with zipfile.ZipFile(output_file, 'r') as zip_ref:\n",
    "        zip_ref.extractall(extract_path)\n",
    "    print(f\"Extracted to {extract_path}\")\n",
    "else:\n",
    "    print(\"Chroma store already extracted.\")"
   ]
  },
  {
   "cell_type": "code",
   "execution_count": null,
   "id": "70b8a0fb",
   "metadata": {},
   "outputs": [],
   "source": [
    "# Step 3: Load the Chroma DB\n",
    "import chromadb\n",
    "from chromadb.config import Settings\n",
    "\n",
    "client = chromadb.Client(Settings(\n",
    "    persist_directory=extract_path\n",
    "))\n",
    "\n",
    "# List collections to verify\n",
    "collections = client.list_collections()\n",
    "print(\"\\nCollections found:\")\n",
    "for col in collections:\n",
    "    print(f\"- {col.name}\")"
   ]
  },
  {
   "cell_type": "code",
   "execution_count": null,
   "id": "49f746c2",
   "metadata": {},
   "outputs": [],
   "source": [
    "# Step 4: Query a collection\n",
    "collection_name = collections[0].name  # Adjust if needed\n",
    "collection = client.get_collection(name=collection_name)\n",
    "\n",
    "# Example query\n",
    "query_results = collection.query(\n",
    "    query_texts=[\"test query\"],\n",
    "    n_results=3\n",
    ")\n",
    "\n",
    "print(\"\\nSample query results:\")\n",
    "print(query_results)"
   ]
  }
 ],
 "metadata": {
  "kernelspec": {
   "display_name": "Python 3 (ipykernel)",
   "language": "python",
   "name": "python3"
  },
  "language_info": {
   "codemirror_mode": {
    "name": "ipython",
    "version": 3
   },
   "file_extension": ".py",
   "mimetype": "text/x-python",
   "name": "python",
   "nbconvert_exporter": "python",
   "pygments_lexer": "ipython3",
   "version": "3.12.4"
  }
 },
 "nbformat": 4,
 "nbformat_minor": 5
}
